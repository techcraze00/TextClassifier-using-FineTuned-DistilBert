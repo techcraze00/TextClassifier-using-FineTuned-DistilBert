{
  "nbformat": 4,
  "nbformat_minor": 0,
  "metadata": {
    "colab": {
      "provenance": []
    },
    "kernelspec": {
      "name": "python3",
      "display_name": "Python 3"
    },
    "language_info": {
      "name": "python"
    },
    "widgets": {
      "application/vnd.jupyter.widget-state+json": {
        "fd4d128ab9f94f9bb9b9802c4d72e211": {
          "model_module": "@jupyter-widgets/controls",
          "model_name": "HBoxModel",
          "model_module_version": "1.5.0",
          "state": {
            "_dom_classes": [],
            "_model_module": "@jupyter-widgets/controls",
            "_model_module_version": "1.5.0",
            "_model_name": "HBoxModel",
            "_view_count": null,
            "_view_module": "@jupyter-widgets/controls",
            "_view_module_version": "1.5.0",
            "_view_name": "HBoxView",
            "box_style": "",
            "children": [
              "IPY_MODEL_cede3edf401445aca19753e77d692897",
              "IPY_MODEL_486c840c8fc147c7a1c475e2ae599f2b",
              "IPY_MODEL_9fafd7c7a9724aea9f1616404628d054"
            ],
            "layout": "IPY_MODEL_af9f90ea85e942bba465d8ae30b4c191"
          }
        },
        "cede3edf401445aca19753e77d692897": {
          "model_module": "@jupyter-widgets/controls",
          "model_name": "HTMLModel",
          "model_module_version": "1.5.0",
          "state": {
            "_dom_classes": [],
            "_model_module": "@jupyter-widgets/controls",
            "_model_module_version": "1.5.0",
            "_model_name": "HTMLModel",
            "_view_count": null,
            "_view_module": "@jupyter-widgets/controls",
            "_view_module_version": "1.5.0",
            "_view_name": "HTMLView",
            "description": "",
            "description_tooltip": null,
            "layout": "IPY_MODEL_7f7505921d6d49379eb92374df88d9d6",
            "placeholder": "​",
            "style": "IPY_MODEL_4e3e5e04858e423996801b0e8feb776f",
            "value": "tokenizer_config.json: 100%"
          }
        },
        "486c840c8fc147c7a1c475e2ae599f2b": {
          "model_module": "@jupyter-widgets/controls",
          "model_name": "FloatProgressModel",
          "model_module_version": "1.5.0",
          "state": {
            "_dom_classes": [],
            "_model_module": "@jupyter-widgets/controls",
            "_model_module_version": "1.5.0",
            "_model_name": "FloatProgressModel",
            "_view_count": null,
            "_view_module": "@jupyter-widgets/controls",
            "_view_module_version": "1.5.0",
            "_view_name": "ProgressView",
            "bar_style": "success",
            "description": "",
            "description_tooltip": null,
            "layout": "IPY_MODEL_14c901d74c9a4317af2275b5d4d272cf",
            "max": 48,
            "min": 0,
            "orientation": "horizontal",
            "style": "IPY_MODEL_0836814f887b4002a87e9bf75fbc9422",
            "value": 48
          }
        },
        "9fafd7c7a9724aea9f1616404628d054": {
          "model_module": "@jupyter-widgets/controls",
          "model_name": "HTMLModel",
          "model_module_version": "1.5.0",
          "state": {
            "_dom_classes": [],
            "_model_module": "@jupyter-widgets/controls",
            "_model_module_version": "1.5.0",
            "_model_name": "HTMLModel",
            "_view_count": null,
            "_view_module": "@jupyter-widgets/controls",
            "_view_module_version": "1.5.0",
            "_view_name": "HTMLView",
            "description": "",
            "description_tooltip": null,
            "layout": "IPY_MODEL_a96628b049c343319a23bc524c2287c6",
            "placeholder": "​",
            "style": "IPY_MODEL_2eaf68def77c4bd99bad10d80b7a67bd",
            "value": " 48.0/48.0 [00:00&lt;00:00, 2.61kB/s]"
          }
        },
        "af9f90ea85e942bba465d8ae30b4c191": {
          "model_module": "@jupyter-widgets/base",
          "model_name": "LayoutModel",
          "model_module_version": "1.2.0",
          "state": {
            "_model_module": "@jupyter-widgets/base",
            "_model_module_version": "1.2.0",
            "_model_name": "LayoutModel",
            "_view_count": null,
            "_view_module": "@jupyter-widgets/base",
            "_view_module_version": "1.2.0",
            "_view_name": "LayoutView",
            "align_content": null,
            "align_items": null,
            "align_self": null,
            "border": null,
            "bottom": null,
            "display": null,
            "flex": null,
            "flex_flow": null,
            "grid_area": null,
            "grid_auto_columns": null,
            "grid_auto_flow": null,
            "grid_auto_rows": null,
            "grid_column": null,
            "grid_gap": null,
            "grid_row": null,
            "grid_template_areas": null,
            "grid_template_columns": null,
            "grid_template_rows": null,
            "height": null,
            "justify_content": null,
            "justify_items": null,
            "left": null,
            "margin": null,
            "max_height": null,
            "max_width": null,
            "min_height": null,
            "min_width": null,
            "object_fit": null,
            "object_position": null,
            "order": null,
            "overflow": null,
            "overflow_x": null,
            "overflow_y": null,
            "padding": null,
            "right": null,
            "top": null,
            "visibility": null,
            "width": null
          }
        },
        "7f7505921d6d49379eb92374df88d9d6": {
          "model_module": "@jupyter-widgets/base",
          "model_name": "LayoutModel",
          "model_module_version": "1.2.0",
          "state": {
            "_model_module": "@jupyter-widgets/base",
            "_model_module_version": "1.2.0",
            "_model_name": "LayoutModel",
            "_view_count": null,
            "_view_module": "@jupyter-widgets/base",
            "_view_module_version": "1.2.0",
            "_view_name": "LayoutView",
            "align_content": null,
            "align_items": null,
            "align_self": null,
            "border": null,
            "bottom": null,
            "display": null,
            "flex": null,
            "flex_flow": null,
            "grid_area": null,
            "grid_auto_columns": null,
            "grid_auto_flow": null,
            "grid_auto_rows": null,
            "grid_column": null,
            "grid_gap": null,
            "grid_row": null,
            "grid_template_areas": null,
            "grid_template_columns": null,
            "grid_template_rows": null,
            "height": null,
            "justify_content": null,
            "justify_items": null,
            "left": null,
            "margin": null,
            "max_height": null,
            "max_width": null,
            "min_height": null,
            "min_width": null,
            "object_fit": null,
            "object_position": null,
            "order": null,
            "overflow": null,
            "overflow_x": null,
            "overflow_y": null,
            "padding": null,
            "right": null,
            "top": null,
            "visibility": null,
            "width": null
          }
        },
        "4e3e5e04858e423996801b0e8feb776f": {
          "model_module": "@jupyter-widgets/controls",
          "model_name": "DescriptionStyleModel",
          "model_module_version": "1.5.0",
          "state": {
            "_model_module": "@jupyter-widgets/controls",
            "_model_module_version": "1.5.0",
            "_model_name": "DescriptionStyleModel",
            "_view_count": null,
            "_view_module": "@jupyter-widgets/base",
            "_view_module_version": "1.2.0",
            "_view_name": "StyleView",
            "description_width": ""
          }
        },
        "14c901d74c9a4317af2275b5d4d272cf": {
          "model_module": "@jupyter-widgets/base",
          "model_name": "LayoutModel",
          "model_module_version": "1.2.0",
          "state": {
            "_model_module": "@jupyter-widgets/base",
            "_model_module_version": "1.2.0",
            "_model_name": "LayoutModel",
            "_view_count": null,
            "_view_module": "@jupyter-widgets/base",
            "_view_module_version": "1.2.0",
            "_view_name": "LayoutView",
            "align_content": null,
            "align_items": null,
            "align_self": null,
            "border": null,
            "bottom": null,
            "display": null,
            "flex": null,
            "flex_flow": null,
            "grid_area": null,
            "grid_auto_columns": null,
            "grid_auto_flow": null,
            "grid_auto_rows": null,
            "grid_column": null,
            "grid_gap": null,
            "grid_row": null,
            "grid_template_areas": null,
            "grid_template_columns": null,
            "grid_template_rows": null,
            "height": null,
            "justify_content": null,
            "justify_items": null,
            "left": null,
            "margin": null,
            "max_height": null,
            "max_width": null,
            "min_height": null,
            "min_width": null,
            "object_fit": null,
            "object_position": null,
            "order": null,
            "overflow": null,
            "overflow_x": null,
            "overflow_y": null,
            "padding": null,
            "right": null,
            "top": null,
            "visibility": null,
            "width": null
          }
        },
        "0836814f887b4002a87e9bf75fbc9422": {
          "model_module": "@jupyter-widgets/controls",
          "model_name": "ProgressStyleModel",
          "model_module_version": "1.5.0",
          "state": {
            "_model_module": "@jupyter-widgets/controls",
            "_model_module_version": "1.5.0",
            "_model_name": "ProgressStyleModel",
            "_view_count": null,
            "_view_module": "@jupyter-widgets/base",
            "_view_module_version": "1.2.0",
            "_view_name": "StyleView",
            "bar_color": null,
            "description_width": ""
          }
        },
        "a96628b049c343319a23bc524c2287c6": {
          "model_module": "@jupyter-widgets/base",
          "model_name": "LayoutModel",
          "model_module_version": "1.2.0",
          "state": {
            "_model_module": "@jupyter-widgets/base",
            "_model_module_version": "1.2.0",
            "_model_name": "LayoutModel",
            "_view_count": null,
            "_view_module": "@jupyter-widgets/base",
            "_view_module_version": "1.2.0",
            "_view_name": "LayoutView",
            "align_content": null,
            "align_items": null,
            "align_self": null,
            "border": null,
            "bottom": null,
            "display": null,
            "flex": null,
            "flex_flow": null,
            "grid_area": null,
            "grid_auto_columns": null,
            "grid_auto_flow": null,
            "grid_auto_rows": null,
            "grid_column": null,
            "grid_gap": null,
            "grid_row": null,
            "grid_template_areas": null,
            "grid_template_columns": null,
            "grid_template_rows": null,
            "height": null,
            "justify_content": null,
            "justify_items": null,
            "left": null,
            "margin": null,
            "max_height": null,
            "max_width": null,
            "min_height": null,
            "min_width": null,
            "object_fit": null,
            "object_position": null,
            "order": null,
            "overflow": null,
            "overflow_x": null,
            "overflow_y": null,
            "padding": null,
            "right": null,
            "top": null,
            "visibility": null,
            "width": null
          }
        },
        "2eaf68def77c4bd99bad10d80b7a67bd": {
          "model_module": "@jupyter-widgets/controls",
          "model_name": "DescriptionStyleModel",
          "model_module_version": "1.5.0",
          "state": {
            "_model_module": "@jupyter-widgets/controls",
            "_model_module_version": "1.5.0",
            "_model_name": "DescriptionStyleModel",
            "_view_count": null,
            "_view_module": "@jupyter-widgets/base",
            "_view_module_version": "1.2.0",
            "_view_name": "StyleView",
            "description_width": ""
          }
        },
        "f3e75a9c1e8440c599ca31118a562fe4": {
          "model_module": "@jupyter-widgets/controls",
          "model_name": "HBoxModel",
          "model_module_version": "1.5.0",
          "state": {
            "_dom_classes": [],
            "_model_module": "@jupyter-widgets/controls",
            "_model_module_version": "1.5.0",
            "_model_name": "HBoxModel",
            "_view_count": null,
            "_view_module": "@jupyter-widgets/controls",
            "_view_module_version": "1.5.0",
            "_view_name": "HBoxView",
            "box_style": "",
            "children": [
              "IPY_MODEL_4d0cc7622b4344c194829dae5a06efc0",
              "IPY_MODEL_ef084ca8a8f6496faf57c807159a9167",
              "IPY_MODEL_3f8d0594ce9f41d3be193c9b62194382"
            ],
            "layout": "IPY_MODEL_d045969be7804c28b5946db1b6608592"
          }
        },
        "4d0cc7622b4344c194829dae5a06efc0": {
          "model_module": "@jupyter-widgets/controls",
          "model_name": "HTMLModel",
          "model_module_version": "1.5.0",
          "state": {
            "_dom_classes": [],
            "_model_module": "@jupyter-widgets/controls",
            "_model_module_version": "1.5.0",
            "_model_name": "HTMLModel",
            "_view_count": null,
            "_view_module": "@jupyter-widgets/controls",
            "_view_module_version": "1.5.0",
            "_view_name": "HTMLView",
            "description": "",
            "description_tooltip": null,
            "layout": "IPY_MODEL_b1f8d46084164e0790ff4a16bd374233",
            "placeholder": "​",
            "style": "IPY_MODEL_47d8120a4f1c433296c5cb3c91414104",
            "value": "vocab.txt: 100%"
          }
        },
        "ef084ca8a8f6496faf57c807159a9167": {
          "model_module": "@jupyter-widgets/controls",
          "model_name": "FloatProgressModel",
          "model_module_version": "1.5.0",
          "state": {
            "_dom_classes": [],
            "_model_module": "@jupyter-widgets/controls",
            "_model_module_version": "1.5.0",
            "_model_name": "FloatProgressModel",
            "_view_count": null,
            "_view_module": "@jupyter-widgets/controls",
            "_view_module_version": "1.5.0",
            "_view_name": "ProgressView",
            "bar_style": "success",
            "description": "",
            "description_tooltip": null,
            "layout": "IPY_MODEL_042c2c96dc8a490fb5ab3f42edee5cae",
            "max": 231508,
            "min": 0,
            "orientation": "horizontal",
            "style": "IPY_MODEL_a5f9a95a52e1466aa104a6358cee791a",
            "value": 231508
          }
        },
        "3f8d0594ce9f41d3be193c9b62194382": {
          "model_module": "@jupyter-widgets/controls",
          "model_name": "HTMLModel",
          "model_module_version": "1.5.0",
          "state": {
            "_dom_classes": [],
            "_model_module": "@jupyter-widgets/controls",
            "_model_module_version": "1.5.0",
            "_model_name": "HTMLModel",
            "_view_count": null,
            "_view_module": "@jupyter-widgets/controls",
            "_view_module_version": "1.5.0",
            "_view_name": "HTMLView",
            "description": "",
            "description_tooltip": null,
            "layout": "IPY_MODEL_bd4cc3fe369c47a8acf6acbf975b3272",
            "placeholder": "​",
            "style": "IPY_MODEL_622fbed885b34ebea3de6c6980cbfa8c",
            "value": " 232k/232k [00:00&lt;00:00, 4.82MB/s]"
          }
        },
        "d045969be7804c28b5946db1b6608592": {
          "model_module": "@jupyter-widgets/base",
          "model_name": "LayoutModel",
          "model_module_version": "1.2.0",
          "state": {
            "_model_module": "@jupyter-widgets/base",
            "_model_module_version": "1.2.0",
            "_model_name": "LayoutModel",
            "_view_count": null,
            "_view_module": "@jupyter-widgets/base",
            "_view_module_version": "1.2.0",
            "_view_name": "LayoutView",
            "align_content": null,
            "align_items": null,
            "align_self": null,
            "border": null,
            "bottom": null,
            "display": null,
            "flex": null,
            "flex_flow": null,
            "grid_area": null,
            "grid_auto_columns": null,
            "grid_auto_flow": null,
            "grid_auto_rows": null,
            "grid_column": null,
            "grid_gap": null,
            "grid_row": null,
            "grid_template_areas": null,
            "grid_template_columns": null,
            "grid_template_rows": null,
            "height": null,
            "justify_content": null,
            "justify_items": null,
            "left": null,
            "margin": null,
            "max_height": null,
            "max_width": null,
            "min_height": null,
            "min_width": null,
            "object_fit": null,
            "object_position": null,
            "order": null,
            "overflow": null,
            "overflow_x": null,
            "overflow_y": null,
            "padding": null,
            "right": null,
            "top": null,
            "visibility": null,
            "width": null
          }
        },
        "b1f8d46084164e0790ff4a16bd374233": {
          "model_module": "@jupyter-widgets/base",
          "model_name": "LayoutModel",
          "model_module_version": "1.2.0",
          "state": {
            "_model_module": "@jupyter-widgets/base",
            "_model_module_version": "1.2.0",
            "_model_name": "LayoutModel",
            "_view_count": null,
            "_view_module": "@jupyter-widgets/base",
            "_view_module_version": "1.2.0",
            "_view_name": "LayoutView",
            "align_content": null,
            "align_items": null,
            "align_self": null,
            "border": null,
            "bottom": null,
            "display": null,
            "flex": null,
            "flex_flow": null,
            "grid_area": null,
            "grid_auto_columns": null,
            "grid_auto_flow": null,
            "grid_auto_rows": null,
            "grid_column": null,
            "grid_gap": null,
            "grid_row": null,
            "grid_template_areas": null,
            "grid_template_columns": null,
            "grid_template_rows": null,
            "height": null,
            "justify_content": null,
            "justify_items": null,
            "left": null,
            "margin": null,
            "max_height": null,
            "max_width": null,
            "min_height": null,
            "min_width": null,
            "object_fit": null,
            "object_position": null,
            "order": null,
            "overflow": null,
            "overflow_x": null,
            "overflow_y": null,
            "padding": null,
            "right": null,
            "top": null,
            "visibility": null,
            "width": null
          }
        },
        "47d8120a4f1c433296c5cb3c91414104": {
          "model_module": "@jupyter-widgets/controls",
          "model_name": "DescriptionStyleModel",
          "model_module_version": "1.5.0",
          "state": {
            "_model_module": "@jupyter-widgets/controls",
            "_model_module_version": "1.5.0",
            "_model_name": "DescriptionStyleModel",
            "_view_count": null,
            "_view_module": "@jupyter-widgets/base",
            "_view_module_version": "1.2.0",
            "_view_name": "StyleView",
            "description_width": ""
          }
        },
        "042c2c96dc8a490fb5ab3f42edee5cae": {
          "model_module": "@jupyter-widgets/base",
          "model_name": "LayoutModel",
          "model_module_version": "1.2.0",
          "state": {
            "_model_module": "@jupyter-widgets/base",
            "_model_module_version": "1.2.0",
            "_model_name": "LayoutModel",
            "_view_count": null,
            "_view_module": "@jupyter-widgets/base",
            "_view_module_version": "1.2.0",
            "_view_name": "LayoutView",
            "align_content": null,
            "align_items": null,
            "align_self": null,
            "border": null,
            "bottom": null,
            "display": null,
            "flex": null,
            "flex_flow": null,
            "grid_area": null,
            "grid_auto_columns": null,
            "grid_auto_flow": null,
            "grid_auto_rows": null,
            "grid_column": null,
            "grid_gap": null,
            "grid_row": null,
            "grid_template_areas": null,
            "grid_template_columns": null,
            "grid_template_rows": null,
            "height": null,
            "justify_content": null,
            "justify_items": null,
            "left": null,
            "margin": null,
            "max_height": null,
            "max_width": null,
            "min_height": null,
            "min_width": null,
            "object_fit": null,
            "object_position": null,
            "order": null,
            "overflow": null,
            "overflow_x": null,
            "overflow_y": null,
            "padding": null,
            "right": null,
            "top": null,
            "visibility": null,
            "width": null
          }
        },
        "a5f9a95a52e1466aa104a6358cee791a": {
          "model_module": "@jupyter-widgets/controls",
          "model_name": "ProgressStyleModel",
          "model_module_version": "1.5.0",
          "state": {
            "_model_module": "@jupyter-widgets/controls",
            "_model_module_version": "1.5.0",
            "_model_name": "ProgressStyleModel",
            "_view_count": null,
            "_view_module": "@jupyter-widgets/base",
            "_view_module_version": "1.2.0",
            "_view_name": "StyleView",
            "bar_color": null,
            "description_width": ""
          }
        },
        "bd4cc3fe369c47a8acf6acbf975b3272": {
          "model_module": "@jupyter-widgets/base",
          "model_name": "LayoutModel",
          "model_module_version": "1.2.0",
          "state": {
            "_model_module": "@jupyter-widgets/base",
            "_model_module_version": "1.2.0",
            "_model_name": "LayoutModel",
            "_view_count": null,
            "_view_module": "@jupyter-widgets/base",
            "_view_module_version": "1.2.0",
            "_view_name": "LayoutView",
            "align_content": null,
            "align_items": null,
            "align_self": null,
            "border": null,
            "bottom": null,
            "display": null,
            "flex": null,
            "flex_flow": null,
            "grid_area": null,
            "grid_auto_columns": null,
            "grid_auto_flow": null,
            "grid_auto_rows": null,
            "grid_column": null,
            "grid_gap": null,
            "grid_row": null,
            "grid_template_areas": null,
            "grid_template_columns": null,
            "grid_template_rows": null,
            "height": null,
            "justify_content": null,
            "justify_items": null,
            "left": null,
            "margin": null,
            "max_height": null,
            "max_width": null,
            "min_height": null,
            "min_width": null,
            "object_fit": null,
            "object_position": null,
            "order": null,
            "overflow": null,
            "overflow_x": null,
            "overflow_y": null,
            "padding": null,
            "right": null,
            "top": null,
            "visibility": null,
            "width": null
          }
        },
        "622fbed885b34ebea3de6c6980cbfa8c": {
          "model_module": "@jupyter-widgets/controls",
          "model_name": "DescriptionStyleModel",
          "model_module_version": "1.5.0",
          "state": {
            "_model_module": "@jupyter-widgets/controls",
            "_model_module_version": "1.5.0",
            "_model_name": "DescriptionStyleModel",
            "_view_count": null,
            "_view_module": "@jupyter-widgets/base",
            "_view_module_version": "1.2.0",
            "_view_name": "StyleView",
            "description_width": ""
          }
        },
        "0dd8102161c04f80a1fabee708ab5ada": {
          "model_module": "@jupyter-widgets/controls",
          "model_name": "HBoxModel",
          "model_module_version": "1.5.0",
          "state": {
            "_dom_classes": [],
            "_model_module": "@jupyter-widgets/controls",
            "_model_module_version": "1.5.0",
            "_model_name": "HBoxModel",
            "_view_count": null,
            "_view_module": "@jupyter-widgets/controls",
            "_view_module_version": "1.5.0",
            "_view_name": "HBoxView",
            "box_style": "",
            "children": [
              "IPY_MODEL_a7254d2720ab4d5fbd818aa7f8e66a25",
              "IPY_MODEL_2e6e35878bd1444a8b7e41cc5c6cd588",
              "IPY_MODEL_baf2e08989114687ad7507ba1c1d6e13"
            ],
            "layout": "IPY_MODEL_304150d207ed42c7b36e3cc38e7abc5c"
          }
        },
        "a7254d2720ab4d5fbd818aa7f8e66a25": {
          "model_module": "@jupyter-widgets/controls",
          "model_name": "HTMLModel",
          "model_module_version": "1.5.0",
          "state": {
            "_dom_classes": [],
            "_model_module": "@jupyter-widgets/controls",
            "_model_module_version": "1.5.0",
            "_model_name": "HTMLModel",
            "_view_count": null,
            "_view_module": "@jupyter-widgets/controls",
            "_view_module_version": "1.5.0",
            "_view_name": "HTMLView",
            "description": "",
            "description_tooltip": null,
            "layout": "IPY_MODEL_3b90609b15674724b1d80b0d13ce1aaa",
            "placeholder": "​",
            "style": "IPY_MODEL_2619813b372f40edb137032774972c99",
            "value": "tokenizer.json: 100%"
          }
        },
        "2e6e35878bd1444a8b7e41cc5c6cd588": {
          "model_module": "@jupyter-widgets/controls",
          "model_name": "FloatProgressModel",
          "model_module_version": "1.5.0",
          "state": {
            "_dom_classes": [],
            "_model_module": "@jupyter-widgets/controls",
            "_model_module_version": "1.5.0",
            "_model_name": "FloatProgressModel",
            "_view_count": null,
            "_view_module": "@jupyter-widgets/controls",
            "_view_module_version": "1.5.0",
            "_view_name": "ProgressView",
            "bar_style": "success",
            "description": "",
            "description_tooltip": null,
            "layout": "IPY_MODEL_c95042c2d9624bdba12aed0a678aa1e0",
            "max": 466062,
            "min": 0,
            "orientation": "horizontal",
            "style": "IPY_MODEL_af569cde3ec3453ca952eeeba8af8691",
            "value": 466062
          }
        },
        "baf2e08989114687ad7507ba1c1d6e13": {
          "model_module": "@jupyter-widgets/controls",
          "model_name": "HTMLModel",
          "model_module_version": "1.5.0",
          "state": {
            "_dom_classes": [],
            "_model_module": "@jupyter-widgets/controls",
            "_model_module_version": "1.5.0",
            "_model_name": "HTMLModel",
            "_view_count": null,
            "_view_module": "@jupyter-widgets/controls",
            "_view_module_version": "1.5.0",
            "_view_name": "HTMLView",
            "description": "",
            "description_tooltip": null,
            "layout": "IPY_MODEL_4fee45c4656b4903921439b698ab27de",
            "placeholder": "​",
            "style": "IPY_MODEL_1b6906b60a6041a3aeca6feeb2b74937",
            "value": " 466k/466k [00:00&lt;00:00, 13.0MB/s]"
          }
        },
        "304150d207ed42c7b36e3cc38e7abc5c": {
          "model_module": "@jupyter-widgets/base",
          "model_name": "LayoutModel",
          "model_module_version": "1.2.0",
          "state": {
            "_model_module": "@jupyter-widgets/base",
            "_model_module_version": "1.2.0",
            "_model_name": "LayoutModel",
            "_view_count": null,
            "_view_module": "@jupyter-widgets/base",
            "_view_module_version": "1.2.0",
            "_view_name": "LayoutView",
            "align_content": null,
            "align_items": null,
            "align_self": null,
            "border": null,
            "bottom": null,
            "display": null,
            "flex": null,
            "flex_flow": null,
            "grid_area": null,
            "grid_auto_columns": null,
            "grid_auto_flow": null,
            "grid_auto_rows": null,
            "grid_column": null,
            "grid_gap": null,
            "grid_row": null,
            "grid_template_areas": null,
            "grid_template_columns": null,
            "grid_template_rows": null,
            "height": null,
            "justify_content": null,
            "justify_items": null,
            "left": null,
            "margin": null,
            "max_height": null,
            "max_width": null,
            "min_height": null,
            "min_width": null,
            "object_fit": null,
            "object_position": null,
            "order": null,
            "overflow": null,
            "overflow_x": null,
            "overflow_y": null,
            "padding": null,
            "right": null,
            "top": null,
            "visibility": null,
            "width": null
          }
        },
        "3b90609b15674724b1d80b0d13ce1aaa": {
          "model_module": "@jupyter-widgets/base",
          "model_name": "LayoutModel",
          "model_module_version": "1.2.0",
          "state": {
            "_model_module": "@jupyter-widgets/base",
            "_model_module_version": "1.2.0",
            "_model_name": "LayoutModel",
            "_view_count": null,
            "_view_module": "@jupyter-widgets/base",
            "_view_module_version": "1.2.0",
            "_view_name": "LayoutView",
            "align_content": null,
            "align_items": null,
            "align_self": null,
            "border": null,
            "bottom": null,
            "display": null,
            "flex": null,
            "flex_flow": null,
            "grid_area": null,
            "grid_auto_columns": null,
            "grid_auto_flow": null,
            "grid_auto_rows": null,
            "grid_column": null,
            "grid_gap": null,
            "grid_row": null,
            "grid_template_areas": null,
            "grid_template_columns": null,
            "grid_template_rows": null,
            "height": null,
            "justify_content": null,
            "justify_items": null,
            "left": null,
            "margin": null,
            "max_height": null,
            "max_width": null,
            "min_height": null,
            "min_width": null,
            "object_fit": null,
            "object_position": null,
            "order": null,
            "overflow": null,
            "overflow_x": null,
            "overflow_y": null,
            "padding": null,
            "right": null,
            "top": null,
            "visibility": null,
            "width": null
          }
        },
        "2619813b372f40edb137032774972c99": {
          "model_module": "@jupyter-widgets/controls",
          "model_name": "DescriptionStyleModel",
          "model_module_version": "1.5.0",
          "state": {
            "_model_module": "@jupyter-widgets/controls",
            "_model_module_version": "1.5.0",
            "_model_name": "DescriptionStyleModel",
            "_view_count": null,
            "_view_module": "@jupyter-widgets/base",
            "_view_module_version": "1.2.0",
            "_view_name": "StyleView",
            "description_width": ""
          }
        },
        "c95042c2d9624bdba12aed0a678aa1e0": {
          "model_module": "@jupyter-widgets/base",
          "model_name": "LayoutModel",
          "model_module_version": "1.2.0",
          "state": {
            "_model_module": "@jupyter-widgets/base",
            "_model_module_version": "1.2.0",
            "_model_name": "LayoutModel",
            "_view_count": null,
            "_view_module": "@jupyter-widgets/base",
            "_view_module_version": "1.2.0",
            "_view_name": "LayoutView",
            "align_content": null,
            "align_items": null,
            "align_self": null,
            "border": null,
            "bottom": null,
            "display": null,
            "flex": null,
            "flex_flow": null,
            "grid_area": null,
            "grid_auto_columns": null,
            "grid_auto_flow": null,
            "grid_auto_rows": null,
            "grid_column": null,
            "grid_gap": null,
            "grid_row": null,
            "grid_template_areas": null,
            "grid_template_columns": null,
            "grid_template_rows": null,
            "height": null,
            "justify_content": null,
            "justify_items": null,
            "left": null,
            "margin": null,
            "max_height": null,
            "max_width": null,
            "min_height": null,
            "min_width": null,
            "object_fit": null,
            "object_position": null,
            "order": null,
            "overflow": null,
            "overflow_x": null,
            "overflow_y": null,
            "padding": null,
            "right": null,
            "top": null,
            "visibility": null,
            "width": null
          }
        },
        "af569cde3ec3453ca952eeeba8af8691": {
          "model_module": "@jupyter-widgets/controls",
          "model_name": "ProgressStyleModel",
          "model_module_version": "1.5.0",
          "state": {
            "_model_module": "@jupyter-widgets/controls",
            "_model_module_version": "1.5.0",
            "_model_name": "ProgressStyleModel",
            "_view_count": null,
            "_view_module": "@jupyter-widgets/base",
            "_view_module_version": "1.2.0",
            "_view_name": "StyleView",
            "bar_color": null,
            "description_width": ""
          }
        },
        "4fee45c4656b4903921439b698ab27de": {
          "model_module": "@jupyter-widgets/base",
          "model_name": "LayoutModel",
          "model_module_version": "1.2.0",
          "state": {
            "_model_module": "@jupyter-widgets/base",
            "_model_module_version": "1.2.0",
            "_model_name": "LayoutModel",
            "_view_count": null,
            "_view_module": "@jupyter-widgets/base",
            "_view_module_version": "1.2.0",
            "_view_name": "LayoutView",
            "align_content": null,
            "align_items": null,
            "align_self": null,
            "border": null,
            "bottom": null,
            "display": null,
            "flex": null,
            "flex_flow": null,
            "grid_area": null,
            "grid_auto_columns": null,
            "grid_auto_flow": null,
            "grid_auto_rows": null,
            "grid_column": null,
            "grid_gap": null,
            "grid_row": null,
            "grid_template_areas": null,
            "grid_template_columns": null,
            "grid_template_rows": null,
            "height": null,
            "justify_content": null,
            "justify_items": null,
            "left": null,
            "margin": null,
            "max_height": null,
            "max_width": null,
            "min_height": null,
            "min_width": null,
            "object_fit": null,
            "object_position": null,
            "order": null,
            "overflow": null,
            "overflow_x": null,
            "overflow_y": null,
            "padding": null,
            "right": null,
            "top": null,
            "visibility": null,
            "width": null
          }
        },
        "1b6906b60a6041a3aeca6feeb2b74937": {
          "model_module": "@jupyter-widgets/controls",
          "model_name": "DescriptionStyleModel",
          "model_module_version": "1.5.0",
          "state": {
            "_model_module": "@jupyter-widgets/controls",
            "_model_module_version": "1.5.0",
            "_model_name": "DescriptionStyleModel",
            "_view_count": null,
            "_view_module": "@jupyter-widgets/base",
            "_view_module_version": "1.2.0",
            "_view_name": "StyleView",
            "description_width": ""
          }
        },
        "c1db0dcdc60f40df83b4f5ad81e72e83": {
          "model_module": "@jupyter-widgets/controls",
          "model_name": "HBoxModel",
          "model_module_version": "1.5.0",
          "state": {
            "_dom_classes": [],
            "_model_module": "@jupyter-widgets/controls",
            "_model_module_version": "1.5.0",
            "_model_name": "HBoxModel",
            "_view_count": null,
            "_view_module": "@jupyter-widgets/controls",
            "_view_module_version": "1.5.0",
            "_view_name": "HBoxView",
            "box_style": "",
            "children": [
              "IPY_MODEL_b07e53729e4d49a68f99e26f44065d49",
              "IPY_MODEL_2fdbefbcd0f34d048bcfd860ad40d986",
              "IPY_MODEL_89feb83189074f60b82d8cb6869b94ec"
            ],
            "layout": "IPY_MODEL_8c81c6f545fb4ccbbb30760f43748d23"
          }
        },
        "b07e53729e4d49a68f99e26f44065d49": {
          "model_module": "@jupyter-widgets/controls",
          "model_name": "HTMLModel",
          "model_module_version": "1.5.0",
          "state": {
            "_dom_classes": [],
            "_model_module": "@jupyter-widgets/controls",
            "_model_module_version": "1.5.0",
            "_model_name": "HTMLModel",
            "_view_count": null,
            "_view_module": "@jupyter-widgets/controls",
            "_view_module_version": "1.5.0",
            "_view_name": "HTMLView",
            "description": "",
            "description_tooltip": null,
            "layout": "IPY_MODEL_e4d2ba78e3364816b837913e0251c2c3",
            "placeholder": "​",
            "style": "IPY_MODEL_a197aa89d2194d47b262bee056a02743",
            "value": "config.json: 100%"
          }
        },
        "2fdbefbcd0f34d048bcfd860ad40d986": {
          "model_module": "@jupyter-widgets/controls",
          "model_name": "FloatProgressModel",
          "model_module_version": "1.5.0",
          "state": {
            "_dom_classes": [],
            "_model_module": "@jupyter-widgets/controls",
            "_model_module_version": "1.5.0",
            "_model_name": "FloatProgressModel",
            "_view_count": null,
            "_view_module": "@jupyter-widgets/controls",
            "_view_module_version": "1.5.0",
            "_view_name": "ProgressView",
            "bar_style": "success",
            "description": "",
            "description_tooltip": null,
            "layout": "IPY_MODEL_82e2ea7e76b0409790832bcccb789396",
            "max": 483,
            "min": 0,
            "orientation": "horizontal",
            "style": "IPY_MODEL_9dc97ffc94ac45998127c5c24bd24cdd",
            "value": 483
          }
        },
        "89feb83189074f60b82d8cb6869b94ec": {
          "model_module": "@jupyter-widgets/controls",
          "model_name": "HTMLModel",
          "model_module_version": "1.5.0",
          "state": {
            "_dom_classes": [],
            "_model_module": "@jupyter-widgets/controls",
            "_model_module_version": "1.5.0",
            "_model_name": "HTMLModel",
            "_view_count": null,
            "_view_module": "@jupyter-widgets/controls",
            "_view_module_version": "1.5.0",
            "_view_name": "HTMLView",
            "description": "",
            "description_tooltip": null,
            "layout": "IPY_MODEL_a515955a468c475990f425955fb43f5f",
            "placeholder": "​",
            "style": "IPY_MODEL_2ab484ca54fe49ea8c00cd4112363ad6",
            "value": " 483/483 [00:00&lt;00:00, 22.9kB/s]"
          }
        },
        "8c81c6f545fb4ccbbb30760f43748d23": {
          "model_module": "@jupyter-widgets/base",
          "model_name": "LayoutModel",
          "model_module_version": "1.2.0",
          "state": {
            "_model_module": "@jupyter-widgets/base",
            "_model_module_version": "1.2.0",
            "_model_name": "LayoutModel",
            "_view_count": null,
            "_view_module": "@jupyter-widgets/base",
            "_view_module_version": "1.2.0",
            "_view_name": "LayoutView",
            "align_content": null,
            "align_items": null,
            "align_self": null,
            "border": null,
            "bottom": null,
            "display": null,
            "flex": null,
            "flex_flow": null,
            "grid_area": null,
            "grid_auto_columns": null,
            "grid_auto_flow": null,
            "grid_auto_rows": null,
            "grid_column": null,
            "grid_gap": null,
            "grid_row": null,
            "grid_template_areas": null,
            "grid_template_columns": null,
            "grid_template_rows": null,
            "height": null,
            "justify_content": null,
            "justify_items": null,
            "left": null,
            "margin": null,
            "max_height": null,
            "max_width": null,
            "min_height": null,
            "min_width": null,
            "object_fit": null,
            "object_position": null,
            "order": null,
            "overflow": null,
            "overflow_x": null,
            "overflow_y": null,
            "padding": null,
            "right": null,
            "top": null,
            "visibility": null,
            "width": null
          }
        },
        "e4d2ba78e3364816b837913e0251c2c3": {
          "model_module": "@jupyter-widgets/base",
          "model_name": "LayoutModel",
          "model_module_version": "1.2.0",
          "state": {
            "_model_module": "@jupyter-widgets/base",
            "_model_module_version": "1.2.0",
            "_model_name": "LayoutModel",
            "_view_count": null,
            "_view_module": "@jupyter-widgets/base",
            "_view_module_version": "1.2.0",
            "_view_name": "LayoutView",
            "align_content": null,
            "align_items": null,
            "align_self": null,
            "border": null,
            "bottom": null,
            "display": null,
            "flex": null,
            "flex_flow": null,
            "grid_area": null,
            "grid_auto_columns": null,
            "grid_auto_flow": null,
            "grid_auto_rows": null,
            "grid_column": null,
            "grid_gap": null,
            "grid_row": null,
            "grid_template_areas": null,
            "grid_template_columns": null,
            "grid_template_rows": null,
            "height": null,
            "justify_content": null,
            "justify_items": null,
            "left": null,
            "margin": null,
            "max_height": null,
            "max_width": null,
            "min_height": null,
            "min_width": null,
            "object_fit": null,
            "object_position": null,
            "order": null,
            "overflow": null,
            "overflow_x": null,
            "overflow_y": null,
            "padding": null,
            "right": null,
            "top": null,
            "visibility": null,
            "width": null
          }
        },
        "a197aa89d2194d47b262bee056a02743": {
          "model_module": "@jupyter-widgets/controls",
          "model_name": "DescriptionStyleModel",
          "model_module_version": "1.5.0",
          "state": {
            "_model_module": "@jupyter-widgets/controls",
            "_model_module_version": "1.5.0",
            "_model_name": "DescriptionStyleModel",
            "_view_count": null,
            "_view_module": "@jupyter-widgets/base",
            "_view_module_version": "1.2.0",
            "_view_name": "StyleView",
            "description_width": ""
          }
        },
        "82e2ea7e76b0409790832bcccb789396": {
          "model_module": "@jupyter-widgets/base",
          "model_name": "LayoutModel",
          "model_module_version": "1.2.0",
          "state": {
            "_model_module": "@jupyter-widgets/base",
            "_model_module_version": "1.2.0",
            "_model_name": "LayoutModel",
            "_view_count": null,
            "_view_module": "@jupyter-widgets/base",
            "_view_module_version": "1.2.0",
            "_view_name": "LayoutView",
            "align_content": null,
            "align_items": null,
            "align_self": null,
            "border": null,
            "bottom": null,
            "display": null,
            "flex": null,
            "flex_flow": null,
            "grid_area": null,
            "grid_auto_columns": null,
            "grid_auto_flow": null,
            "grid_auto_rows": null,
            "grid_column": null,
            "grid_gap": null,
            "grid_row": null,
            "grid_template_areas": null,
            "grid_template_columns": null,
            "grid_template_rows": null,
            "height": null,
            "justify_content": null,
            "justify_items": null,
            "left": null,
            "margin": null,
            "max_height": null,
            "max_width": null,
            "min_height": null,
            "min_width": null,
            "object_fit": null,
            "object_position": null,
            "order": null,
            "overflow": null,
            "overflow_x": null,
            "overflow_y": null,
            "padding": null,
            "right": null,
            "top": null,
            "visibility": null,
            "width": null
          }
        },
        "9dc97ffc94ac45998127c5c24bd24cdd": {
          "model_module": "@jupyter-widgets/controls",
          "model_name": "ProgressStyleModel",
          "model_module_version": "1.5.0",
          "state": {
            "_model_module": "@jupyter-widgets/controls",
            "_model_module_version": "1.5.0",
            "_model_name": "ProgressStyleModel",
            "_view_count": null,
            "_view_module": "@jupyter-widgets/base",
            "_view_module_version": "1.2.0",
            "_view_name": "StyleView",
            "bar_color": null,
            "description_width": ""
          }
        },
        "a515955a468c475990f425955fb43f5f": {
          "model_module": "@jupyter-widgets/base",
          "model_name": "LayoutModel",
          "model_module_version": "1.2.0",
          "state": {
            "_model_module": "@jupyter-widgets/base",
            "_model_module_version": "1.2.0",
            "_model_name": "LayoutModel",
            "_view_count": null,
            "_view_module": "@jupyter-widgets/base",
            "_view_module_version": "1.2.0",
            "_view_name": "LayoutView",
            "align_content": null,
            "align_items": null,
            "align_self": null,
            "border": null,
            "bottom": null,
            "display": null,
            "flex": null,
            "flex_flow": null,
            "grid_area": null,
            "grid_auto_columns": null,
            "grid_auto_flow": null,
            "grid_auto_rows": null,
            "grid_column": null,
            "grid_gap": null,
            "grid_row": null,
            "grid_template_areas": null,
            "grid_template_columns": null,
            "grid_template_rows": null,
            "height": null,
            "justify_content": null,
            "justify_items": null,
            "left": null,
            "margin": null,
            "max_height": null,
            "max_width": null,
            "min_height": null,
            "min_width": null,
            "object_fit": null,
            "object_position": null,
            "order": null,
            "overflow": null,
            "overflow_x": null,
            "overflow_y": null,
            "padding": null,
            "right": null,
            "top": null,
            "visibility": null,
            "width": null
          }
        },
        "2ab484ca54fe49ea8c00cd4112363ad6": {
          "model_module": "@jupyter-widgets/controls",
          "model_name": "DescriptionStyleModel",
          "model_module_version": "1.5.0",
          "state": {
            "_model_module": "@jupyter-widgets/controls",
            "_model_module_version": "1.5.0",
            "_model_name": "DescriptionStyleModel",
            "_view_count": null,
            "_view_module": "@jupyter-widgets/base",
            "_view_module_version": "1.2.0",
            "_view_name": "StyleView",
            "description_width": ""
          }
        },
        "8f276d9f795348728004054d268d2192": {
          "model_module": "@jupyter-widgets/controls",
          "model_name": "HBoxModel",
          "model_module_version": "1.5.0",
          "state": {
            "_dom_classes": [],
            "_model_module": "@jupyter-widgets/controls",
            "_model_module_version": "1.5.0",
            "_model_name": "HBoxModel",
            "_view_count": null,
            "_view_module": "@jupyter-widgets/controls",
            "_view_module_version": "1.5.0",
            "_view_name": "HBoxView",
            "box_style": "",
            "children": [
              "IPY_MODEL_5467e9b877ca48fd96fd65fbca1af3df",
              "IPY_MODEL_1e4761e1e5ed4fc099bbbb36b767e6e8",
              "IPY_MODEL_5bcfd50ad3a448adb39dd4c8c577910c"
            ],
            "layout": "IPY_MODEL_0150a4c7c40b450193f6cbd18ad8cb6f"
          }
        },
        "5467e9b877ca48fd96fd65fbca1af3df": {
          "model_module": "@jupyter-widgets/controls",
          "model_name": "HTMLModel",
          "model_module_version": "1.5.0",
          "state": {
            "_dom_classes": [],
            "_model_module": "@jupyter-widgets/controls",
            "_model_module_version": "1.5.0",
            "_model_name": "HTMLModel",
            "_view_count": null,
            "_view_module": "@jupyter-widgets/controls",
            "_view_module_version": "1.5.0",
            "_view_name": "HTMLView",
            "description": "",
            "description_tooltip": null,
            "layout": "IPY_MODEL_e0df0e81e3bb4e2bbabe9fa06f46483b",
            "placeholder": "​",
            "style": "IPY_MODEL_2eda78c3c2f84d2fbb294a0ee742c23f",
            "value": "model.safetensors: 100%"
          }
        },
        "1e4761e1e5ed4fc099bbbb36b767e6e8": {
          "model_module": "@jupyter-widgets/controls",
          "model_name": "FloatProgressModel",
          "model_module_version": "1.5.0",
          "state": {
            "_dom_classes": [],
            "_model_module": "@jupyter-widgets/controls",
            "_model_module_version": "1.5.0",
            "_model_name": "FloatProgressModel",
            "_view_count": null,
            "_view_module": "@jupyter-widgets/controls",
            "_view_module_version": "1.5.0",
            "_view_name": "ProgressView",
            "bar_style": "success",
            "description": "",
            "description_tooltip": null,
            "layout": "IPY_MODEL_c4c7d52803524fdb9973aa05003a6871",
            "max": 267954768,
            "min": 0,
            "orientation": "horizontal",
            "style": "IPY_MODEL_22c5fc3d9dac44f78481cde23e880b25",
            "value": 267954768
          }
        },
        "5bcfd50ad3a448adb39dd4c8c577910c": {
          "model_module": "@jupyter-widgets/controls",
          "model_name": "HTMLModel",
          "model_module_version": "1.5.0",
          "state": {
            "_dom_classes": [],
            "_model_module": "@jupyter-widgets/controls",
            "_model_module_version": "1.5.0",
            "_model_name": "HTMLModel",
            "_view_count": null,
            "_view_module": "@jupyter-widgets/controls",
            "_view_module_version": "1.5.0",
            "_view_name": "HTMLView",
            "description": "",
            "description_tooltip": null,
            "layout": "IPY_MODEL_8f3605a97475418182000920c90bfe84",
            "placeholder": "​",
            "style": "IPY_MODEL_691c51999d0041ba8a3786858c6131a3",
            "value": " 268M/268M [00:01&lt;00:00, 187MB/s]"
          }
        },
        "0150a4c7c40b450193f6cbd18ad8cb6f": {
          "model_module": "@jupyter-widgets/base",
          "model_name": "LayoutModel",
          "model_module_version": "1.2.0",
          "state": {
            "_model_module": "@jupyter-widgets/base",
            "_model_module_version": "1.2.0",
            "_model_name": "LayoutModel",
            "_view_count": null,
            "_view_module": "@jupyter-widgets/base",
            "_view_module_version": "1.2.0",
            "_view_name": "LayoutView",
            "align_content": null,
            "align_items": null,
            "align_self": null,
            "border": null,
            "bottom": null,
            "display": null,
            "flex": null,
            "flex_flow": null,
            "grid_area": null,
            "grid_auto_columns": null,
            "grid_auto_flow": null,
            "grid_auto_rows": null,
            "grid_column": null,
            "grid_gap": null,
            "grid_row": null,
            "grid_template_areas": null,
            "grid_template_columns": null,
            "grid_template_rows": null,
            "height": null,
            "justify_content": null,
            "justify_items": null,
            "left": null,
            "margin": null,
            "max_height": null,
            "max_width": null,
            "min_height": null,
            "min_width": null,
            "object_fit": null,
            "object_position": null,
            "order": null,
            "overflow": null,
            "overflow_x": null,
            "overflow_y": null,
            "padding": null,
            "right": null,
            "top": null,
            "visibility": null,
            "width": null
          }
        },
        "e0df0e81e3bb4e2bbabe9fa06f46483b": {
          "model_module": "@jupyter-widgets/base",
          "model_name": "LayoutModel",
          "model_module_version": "1.2.0",
          "state": {
            "_model_module": "@jupyter-widgets/base",
            "_model_module_version": "1.2.0",
            "_model_name": "LayoutModel",
            "_view_count": null,
            "_view_module": "@jupyter-widgets/base",
            "_view_module_version": "1.2.0",
            "_view_name": "LayoutView",
            "align_content": null,
            "align_items": null,
            "align_self": null,
            "border": null,
            "bottom": null,
            "display": null,
            "flex": null,
            "flex_flow": null,
            "grid_area": null,
            "grid_auto_columns": null,
            "grid_auto_flow": null,
            "grid_auto_rows": null,
            "grid_column": null,
            "grid_gap": null,
            "grid_row": null,
            "grid_template_areas": null,
            "grid_template_columns": null,
            "grid_template_rows": null,
            "height": null,
            "justify_content": null,
            "justify_items": null,
            "left": null,
            "margin": null,
            "max_height": null,
            "max_width": null,
            "min_height": null,
            "min_width": null,
            "object_fit": null,
            "object_position": null,
            "order": null,
            "overflow": null,
            "overflow_x": null,
            "overflow_y": null,
            "padding": null,
            "right": null,
            "top": null,
            "visibility": null,
            "width": null
          }
        },
        "2eda78c3c2f84d2fbb294a0ee742c23f": {
          "model_module": "@jupyter-widgets/controls",
          "model_name": "DescriptionStyleModel",
          "model_module_version": "1.5.0",
          "state": {
            "_model_module": "@jupyter-widgets/controls",
            "_model_module_version": "1.5.0",
            "_model_name": "DescriptionStyleModel",
            "_view_count": null,
            "_view_module": "@jupyter-widgets/base",
            "_view_module_version": "1.2.0",
            "_view_name": "StyleView",
            "description_width": ""
          }
        },
        "c4c7d52803524fdb9973aa05003a6871": {
          "model_module": "@jupyter-widgets/base",
          "model_name": "LayoutModel",
          "model_module_version": "1.2.0",
          "state": {
            "_model_module": "@jupyter-widgets/base",
            "_model_module_version": "1.2.0",
            "_model_name": "LayoutModel",
            "_view_count": null,
            "_view_module": "@jupyter-widgets/base",
            "_view_module_version": "1.2.0",
            "_view_name": "LayoutView",
            "align_content": null,
            "align_items": null,
            "align_self": null,
            "border": null,
            "bottom": null,
            "display": null,
            "flex": null,
            "flex_flow": null,
            "grid_area": null,
            "grid_auto_columns": null,
            "grid_auto_flow": null,
            "grid_auto_rows": null,
            "grid_column": null,
            "grid_gap": null,
            "grid_row": null,
            "grid_template_areas": null,
            "grid_template_columns": null,
            "grid_template_rows": null,
            "height": null,
            "justify_content": null,
            "justify_items": null,
            "left": null,
            "margin": null,
            "max_height": null,
            "max_width": null,
            "min_height": null,
            "min_width": null,
            "object_fit": null,
            "object_position": null,
            "order": null,
            "overflow": null,
            "overflow_x": null,
            "overflow_y": null,
            "padding": null,
            "right": null,
            "top": null,
            "visibility": null,
            "width": null
          }
        },
        "22c5fc3d9dac44f78481cde23e880b25": {
          "model_module": "@jupyter-widgets/controls",
          "model_name": "ProgressStyleModel",
          "model_module_version": "1.5.0",
          "state": {
            "_model_module": "@jupyter-widgets/controls",
            "_model_module_version": "1.5.0",
            "_model_name": "ProgressStyleModel",
            "_view_count": null,
            "_view_module": "@jupyter-widgets/base",
            "_view_module_version": "1.2.0",
            "_view_name": "StyleView",
            "bar_color": null,
            "description_width": ""
          }
        },
        "8f3605a97475418182000920c90bfe84": {
          "model_module": "@jupyter-widgets/base",
          "model_name": "LayoutModel",
          "model_module_version": "1.2.0",
          "state": {
            "_model_module": "@jupyter-widgets/base",
            "_model_module_version": "1.2.0",
            "_model_name": "LayoutModel",
            "_view_count": null,
            "_view_module": "@jupyter-widgets/base",
            "_view_module_version": "1.2.0",
            "_view_name": "LayoutView",
            "align_content": null,
            "align_items": null,
            "align_self": null,
            "border": null,
            "bottom": null,
            "display": null,
            "flex": null,
            "flex_flow": null,
            "grid_area": null,
            "grid_auto_columns": null,
            "grid_auto_flow": null,
            "grid_auto_rows": null,
            "grid_column": null,
            "grid_gap": null,
            "grid_row": null,
            "grid_template_areas": null,
            "grid_template_columns": null,
            "grid_template_rows": null,
            "height": null,
            "justify_content": null,
            "justify_items": null,
            "left": null,
            "margin": null,
            "max_height": null,
            "max_width": null,
            "min_height": null,
            "min_width": null,
            "object_fit": null,
            "object_position": null,
            "order": null,
            "overflow": null,
            "overflow_x": null,
            "overflow_y": null,
            "padding": null,
            "right": null,
            "top": null,
            "visibility": null,
            "width": null
          }
        },
        "691c51999d0041ba8a3786858c6131a3": {
          "model_module": "@jupyter-widgets/controls",
          "model_name": "DescriptionStyleModel",
          "model_module_version": "1.5.0",
          "state": {
            "_model_module": "@jupyter-widgets/controls",
            "_model_module_version": "1.5.0",
            "_model_name": "DescriptionStyleModel",
            "_view_count": null,
            "_view_module": "@jupyter-widgets/base",
            "_view_module_version": "1.2.0",
            "_view_name": "StyleView",
            "description_width": ""
          }
        }
      }
    }
  },
  "cells": [
    {
      "cell_type": "code",
      "source": [],
      "metadata": {
        "id": "ePwB8nvJy9IM"
      },
      "execution_count": null,
      "outputs": []
    },
    {
      "cell_type": "markdown",
      "source": [
        "# Model Architecture Overview\n",
        "The model being used for this classification task is **DistilBERT**, which is a lighter, faster version of the popular BERT (Bidirectional Encoder Representations from Transformers) model. DistilBERT retains much of BERT's power while being more efficient in terms of size and inference speed. It's built on the transformer architecture, which is particularly powerful for Natural Language Processing (NLP) tasks like sentence classification.\n",
        "\n",
        "\n",
        "\n",
        "* ### Transformer Encoder:\n",
        "  DistilBERT, like BERT, is based on the transformer architecture, which uses self-attention mechanisms to understand the relationships between words in a sentence, regardless of their position.\n",
        "\n",
        "* ### Bidirectional:\n",
        "  Unlike traditional models that read text sequentially (left-to-right or right-to-left), DistilBERT reads the text in both directions, allowing it to capture context from both sides of a word.\n",
        "\n",
        "* ### Lightweight and Efficient:\n",
        "DistilBERT is smaller than BERT by 60% while maintaining 97% of its language understanding capability. This is achieved by reducing the number of layers (12 in BERT vs. 6 in DistilBERT).\n",
        "\n",
        "\n",
        "\n",
        "\n"
      ],
      "metadata": {
        "id": "tXtu9jo80dWW"
      }
    },
    {
      "cell_type": "markdown",
      "source": [
        "\n",
        "The model is fine-tuned on a specific task (in this case, **active/passive sentence classification**) using labeled training data. For this task, DistilBERT's architecture includes a classification head (a dense layer) on top of the transformer layers to predict class labels (active or passive).\n",
        "\n",
        "##Flow of the Model:\n",
        "*Input Sentence → Tokenization → Word Embeddings → Transformer Encoder → Classifier → Output Label*\n",
        "\n",
        "\n"
      ],
      "metadata": {
        "id": "QsLcU9MH34jy"
      }
    },
    {
      "cell_type": "markdown",
      "source": [
        "\n",
        "\n",
        "*   Tokenization: The input sentence is tokenized into subword units (using the BERT tokenizer) before being passed to the model.\n",
        "\n",
        "*   Embedding Layer: These tokens are converted into word embeddings (vectors) that represent each word's meaning in a high-dimensional space.\n",
        "\n",
        "*   Traansformer Encoders: The embeddings are passed through a series of transformer layers that process the text bidirectionally (considering both left and right contexts).\n",
        "\n",
        "\n",
        "\n",
        "*  Output Layer: The final output is a vector of size equal to the number of classes (2 in this case, for active or passive). The highest-value index of the output vector corresponds to the predicted class.\n",
        "\n",
        "\n",
        "\n",
        "\n",
        "\n",
        "\n"
      ],
      "metadata": {
        "id": "YuQaZNl34jqI"
      }
    },
    {
      "cell_type": "markdown",
      "source": [
        "#Getting Started\n",
        "\n",
        "To run the project that involves fine-tuning a DistilBERT model for sentence classification (Active/Passive), you will need several Python libraries for machine learning, data preprocessing, and model handling.\n",
        "\n",
        "Import these necessary libraries required to build and run this model. execute the following block of code."
      ],
      "metadata": {
        "id": "SsLQMLsV5jVF"
      }
    },
    {
      "cell_type": "code",
      "source": [
        "'''\n",
        "tensorflow : For training the model, as you're using TensorFlow's Keras API to handle the neural network and training process.\n",
        "\n",
        "transformer : Used for accessing pre-trained transformer models like DistilBERT and its tokenizer.\n",
        "\n",
        "sklearn : need this for utilities like train/test splits or metrics evaluation (like accuracy, precision, recall, etc.).\n",
        "\n",
        "numpy : A core library for numerical operations. It's widely used for array manipulation and processing model inputs/outputs.\n",
        "\n",
        "pandas: Useful for handling and processing data in tabular form (if you're working with CSVs, dataframes, etc.).\n",
        "\n",
        "'''\n",
        "\n",
        "import tensorflow as tf\n",
        "from transformers import TFDistilBertForSequenceClassification, DistilBertTokenizer, create_optimizer\n",
        "from sklearn.utils import shuffle\n",
        "import numpy as np\n",
        "import pandas as pd\n",
        "from sklearn.model_selection import train_test_split"
      ],
      "metadata": {
        "id": "uWPlXbELA7Mk"
      },
      "execution_count": 1,
      "outputs": []
    },
    {
      "cell_type": "markdown",
      "source": [
        "Once the libraries have been successfully imported, upload the dataset (in this case the dataset is a collection of 40 samples of sentences in **Active** and in **Passive** Voice).\n",
        "\n",
        "I have used a custom dataset (if you want then you can download it from here). You can use your own **classification dataset**.\n",
        "\n",
        "\n",
        "> Remember that we are training the model on Binary-Classified Dataset\n",
        "\n"
      ],
      "metadata": {
        "id": "2r58OH5e75tq"
      }
    },
    {
      "cell_type": "code",
      "source": [
        "data = pd.read_excel(\"/content/drive/MyDrive/Voice_Dataset/immverse_ai_eval_dataset.xlsx\")\n",
        "data = shuffle(data)  # Shuffle the data"
      ],
      "metadata": {
        "id": "M5uL9sHOxj_M"
      },
      "execution_count": 2,
      "outputs": []
    },
    {
      "cell_type": "markdown",
      "source": [
        "#Pre-Processing\n",
        "Preprocessing is crucial because the model doesn't work directly with raw text; it needs the text to be transformed into numerical input. Here’s a step-by-step explanation of the preprocessing steps involved:\n",
        "\n",
        "1. **Split the dataset into training (60%), validation (20%), and test (20%) sets.**"
      ],
      "metadata": {
        "id": "XatsTKOH82Ax"
      }
    },
    {
      "cell_type": "code",
      "source": [
        "train_data = data[:24]  # 60% train\n",
        "val_data = data[24:32]  # 20% validation\n",
        "test_data = data[32:]   # 20% test"
      ],
      "metadata": {
        "id": "DGoPna8kxnB9"
      },
      "execution_count": 3,
      "outputs": []
    },
    {
      "cell_type": "markdown",
      "source": [
        "2. **Loading the Tokenizer:**\n",
        "\n",
        " The tokenizer used here is DistilBERT's Tokenizer. It is responsible for converting the input text into tokens that the model can process. Tokenization involves breaking the input text into individual tokens, which are often words or subwords. The tokenizer uses a WordPiece tokenization algorithm, which allows it to handle unseen words by breaking them down into smaller meaningful subword units."
      ],
      "metadata": {
        "id": "wUF7DrQE9fn9"
      }
    },
    {
      "cell_type": "code",
      "source": [
        "tokenizer = DistilBertTokenizer.from_pretrained(\"distilbert-base-uncased\")"
      ],
      "metadata": {
        "colab": {
          "base_uri": "https://localhost:8080/",
          "height": 249,
          "referenced_widgets": [
            "fd4d128ab9f94f9bb9b9802c4d72e211",
            "cede3edf401445aca19753e77d692897",
            "486c840c8fc147c7a1c475e2ae599f2b",
            "9fafd7c7a9724aea9f1616404628d054",
            "af9f90ea85e942bba465d8ae30b4c191",
            "7f7505921d6d49379eb92374df88d9d6",
            "4e3e5e04858e423996801b0e8feb776f",
            "14c901d74c9a4317af2275b5d4d272cf",
            "0836814f887b4002a87e9bf75fbc9422",
            "a96628b049c343319a23bc524c2287c6",
            "2eaf68def77c4bd99bad10d80b7a67bd",
            "f3e75a9c1e8440c599ca31118a562fe4",
            "4d0cc7622b4344c194829dae5a06efc0",
            "ef084ca8a8f6496faf57c807159a9167",
            "3f8d0594ce9f41d3be193c9b62194382",
            "d045969be7804c28b5946db1b6608592",
            "b1f8d46084164e0790ff4a16bd374233",
            "47d8120a4f1c433296c5cb3c91414104",
            "042c2c96dc8a490fb5ab3f42edee5cae",
            "a5f9a95a52e1466aa104a6358cee791a",
            "bd4cc3fe369c47a8acf6acbf975b3272",
            "622fbed885b34ebea3de6c6980cbfa8c",
            "0dd8102161c04f80a1fabee708ab5ada",
            "a7254d2720ab4d5fbd818aa7f8e66a25",
            "2e6e35878bd1444a8b7e41cc5c6cd588",
            "baf2e08989114687ad7507ba1c1d6e13",
            "304150d207ed42c7b36e3cc38e7abc5c",
            "3b90609b15674724b1d80b0d13ce1aaa",
            "2619813b372f40edb137032774972c99",
            "c95042c2d9624bdba12aed0a678aa1e0",
            "af569cde3ec3453ca952eeeba8af8691",
            "4fee45c4656b4903921439b698ab27de",
            "1b6906b60a6041a3aeca6feeb2b74937",
            "c1db0dcdc60f40df83b4f5ad81e72e83",
            "b07e53729e4d49a68f99e26f44065d49",
            "2fdbefbcd0f34d048bcfd860ad40d986",
            "89feb83189074f60b82d8cb6869b94ec",
            "8c81c6f545fb4ccbbb30760f43748d23",
            "e4d2ba78e3364816b837913e0251c2c3",
            "a197aa89d2194d47b262bee056a02743",
            "82e2ea7e76b0409790832bcccb789396",
            "9dc97ffc94ac45998127c5c24bd24cdd",
            "a515955a468c475990f425955fb43f5f",
            "2ab484ca54fe49ea8c00cd4112363ad6"
          ]
        },
        "id": "3oND4wTFxrEE",
        "outputId": "3c1a2c99-b951-4b16-9ea6-5997df5ce75a"
      },
      "execution_count": 4,
      "outputs": [
        {
          "output_type": "stream",
          "name": "stderr",
          "text": [
            "/usr/local/lib/python3.10/dist-packages/huggingface_hub/utils/_auth.py:94: UserWarning: \n",
            "The secret `HF_TOKEN` does not exist in your Colab secrets.\n",
            "To authenticate with the Hugging Face Hub, create a token in your settings tab (https://huggingface.co/settings/tokens), set it as secret in your Google Colab and restart your session.\n",
            "You will be able to reuse this secret in all of your notebooks.\n",
            "Please note that authentication is recommended but still optional to access public models or datasets.\n",
            "  warnings.warn(\n"
          ]
        },
        {
          "output_type": "display_data",
          "data": {
            "text/plain": [
              "tokenizer_config.json:   0%|          | 0.00/48.0 [00:00<?, ?B/s]"
            ],
            "application/vnd.jupyter.widget-view+json": {
              "version_major": 2,
              "version_minor": 0,
              "model_id": "fd4d128ab9f94f9bb9b9802c4d72e211"
            }
          },
          "metadata": {}
        },
        {
          "output_type": "display_data",
          "data": {
            "text/plain": [
              "vocab.txt:   0%|          | 0.00/232k [00:00<?, ?B/s]"
            ],
            "application/vnd.jupyter.widget-view+json": {
              "version_major": 2,
              "version_minor": 0,
              "model_id": "f3e75a9c1e8440c599ca31118a562fe4"
            }
          },
          "metadata": {}
        },
        {
          "output_type": "display_data",
          "data": {
            "text/plain": [
              "tokenizer.json:   0%|          | 0.00/466k [00:00<?, ?B/s]"
            ],
            "application/vnd.jupyter.widget-view+json": {
              "version_major": 2,
              "version_minor": 0,
              "model_id": "0dd8102161c04f80a1fabee708ab5ada"
            }
          },
          "metadata": {}
        },
        {
          "output_type": "display_data",
          "data": {
            "text/plain": [
              "config.json:   0%|          | 0.00/483 [00:00<?, ?B/s]"
            ],
            "application/vnd.jupyter.widget-view+json": {
              "version_major": 2,
              "version_minor": 0,
              "model_id": "c1db0dcdc60f40df83b4f5ad81e72e83"
            }
          },
          "metadata": {}
        }
      ]
    },
    {
      "cell_type": "markdown",
      "source": [
        "**Tokenizing the Sentence**\n",
        "\n",
        "For each input sentence, the tokenizer does the following:\n",
        "\n",
        "\n",
        "*  Splitting the text into words/subwords: The sentence is broken down into tokens (words or subword pieces) that the model can understand.\n",
        "\n",
        "*   Padding and truncating: To make sure all input sequences are of the same length, we pad shorter sequences and truncate longer sequences to a fixed length (in this case, 128 tokens).\n",
        "\n",
        "*   Converting tokens into token IDs: Each token is mapped to an integer index corresponding to its position in the pre-trained tokenizer’s vocabulary.\n",
        "\n",
        "\n",
        "\n",
        "Run the follwoing code-block to tokenize the sentences."
      ],
      "metadata": {
        "id": "YmUV4UOY91sC"
      }
    },
    {
      "cell_type": "code",
      "source": [
        "\n",
        "def encode_data(dataset):\n",
        "    texts = [row['sentence'] for _, row in dataset.iterrows()]\n",
        "    labels = [row['voice'] for _, row in dataset.iterrows()]\n",
        "    # Map string labels to numerical values\n",
        "    labels = [0 if label == \"Active\" else 1 for label in labels]\n",
        "    encodings = tokenizer(\n",
        "        texts, truncation=True, padding=True, max_length=128, return_tensors=\"tf\"\n",
        "    )\n",
        "    return encodings, tf.convert_to_tensor(labels)"
      ],
      "metadata": {
        "id": "TijJ7vT1xuaX"
      },
      "execution_count": 5,
      "outputs": []
    },
    {
      "cell_type": "markdown",
      "source": [
        "\n",
        "\n",
        "The above given **encode_data()**  process the raw train_data, val_data, and test_data, converting them into a format that can be fed into a machine learning model. This typically involves tokenizing text data, encoding it into numerical representations, and preparing corresponding labels."
      ],
      "metadata": {
        "id": "jLhta1YfDF_L"
      }
    },
    {
      "cell_type": "code",
      "source": [
        "#These are the tokenized and encoded input data.\n",
        "train_encodings, train_labels = encode_data(train_data)\n",
        "val_encodings, val_labels = encode_data(val_data)\n",
        "test_encodings, test_labels = encode_data(test_data)\n"
      ],
      "metadata": {
        "id": "SCREYTXSxxop"
      },
      "execution_count": 6,
      "outputs": []
    },
    {
      "cell_type": "markdown",
      "source": [
        "Preparing datasets for training, validation, and testing in a TensorFlow pipeline. The following code uses **tf.data.Dataset.from_tensor_slices()** to create TensorFlow datasets from the encoded data and labels. This method slices the data into individual elements that can be batched and processed in parallel.\n",
        "\n",
        "The **dict(\"*encodings*\")** converts the encodings into a dictionary format, which is expected by TensorFlow models, especially when using models that take multiple input features (like BERT or other transformers)."
      ],
      "metadata": {
        "id": "I-Anr9X3EM4y"
      }
    },
    {
      "cell_type": "code",
      "source": [
        "train_dataset = tf.data.Dataset.from_tensor_slices((dict(train_encodings), train_labels)).batch(8)\n",
        "val_dataset = tf.data.Dataset.from_tensor_slices((dict(val_encodings), val_labels)).batch(8)\n",
        "test_dataset = tf.data.Dataset.from_tensor_slices((dict(test_encodings), test_labels)).batch(8)"
      ],
      "metadata": {
        "id": "Btd-NUACx4F0"
      },
      "execution_count": 7,
      "outputs": []
    },
    {
      "cell_type": "markdown",
      "source": [
        "#Load the Pre-trained model (DistilBert)\n",
        "\n",
        "We are using a basic, lightweight DistilBert model to finetune for the given task."
      ],
      "metadata": {
        "id": "_4icH6mJ_5_K"
      }
    },
    {
      "cell_type": "code",
      "source": [
        "model = TFDistilBertForSequenceClassification.from_pretrained(\"distilbert-base-uncased\", num_labels=2)"
      ],
      "metadata": {
        "colab": {
          "base_uri": "https://localhost:8080/",
          "height": 156,
          "referenced_widgets": [
            "8f276d9f795348728004054d268d2192",
            "5467e9b877ca48fd96fd65fbca1af3df",
            "1e4761e1e5ed4fc099bbbb36b767e6e8",
            "5bcfd50ad3a448adb39dd4c8c577910c",
            "0150a4c7c40b450193f6cbd18ad8cb6f",
            "e0df0e81e3bb4e2bbabe9fa06f46483b",
            "2eda78c3c2f84d2fbb294a0ee742c23f",
            "c4c7d52803524fdb9973aa05003a6871",
            "22c5fc3d9dac44f78481cde23e880b25",
            "8f3605a97475418182000920c90bfe84",
            "691c51999d0041ba8a3786858c6131a3"
          ]
        },
        "id": "ssIarL72x9Ob",
        "outputId": "87e27db0-c107-427c-c7c8-107eaef90f26"
      },
      "execution_count": 8,
      "outputs": [
        {
          "output_type": "display_data",
          "data": {
            "text/plain": [
              "model.safetensors:   0%|          | 0.00/268M [00:00<?, ?B/s]"
            ],
            "application/vnd.jupyter.widget-view+json": {
              "version_major": 2,
              "version_minor": 0,
              "model_id": "8f276d9f795348728004054d268d2192"
            }
          },
          "metadata": {}
        },
        {
          "output_type": "stream",
          "name": "stderr",
          "text": [
            "Some weights of the PyTorch model were not used when initializing the TF 2.0 model TFDistilBertForSequenceClassification: ['vocab_transform.weight', 'vocab_projector.bias', 'vocab_layer_norm.bias', 'vocab_transform.bias', 'vocab_layer_norm.weight']\n",
            "- This IS expected if you are initializing TFDistilBertForSequenceClassification from a PyTorch model trained on another task or with another architecture (e.g. initializing a TFBertForSequenceClassification model from a BertForPreTraining model).\n",
            "- This IS NOT expected if you are initializing TFDistilBertForSequenceClassification from a PyTorch model that you expect to be exactly identical (e.g. initializing a TFBertForSequenceClassification model from a BertForSequenceClassification model).\n",
            "Some weights or buffers of the TF 2.0 model TFDistilBertForSequenceClassification were not initialized from the PyTorch model and are newly initialized: ['pre_classifier.weight', 'pre_classifier.bias', 'classifier.weight', 'classifier.bias']\n",
            "You should probably TRAIN this model on a down-stream task to be able to use it for predictions and inference.\n"
          ]
        }
      ]
    },
    {
      "cell_type": "markdown",
      "source": [
        "\n",
        "\n",
        "\n",
        "> Key Points for the following Codes:\n",
        "\n",
        "1. Pre-trained Model (DistilBERT): Fine-tunes a pre-trained transformer model for better results with limited data.\n",
        "2. Data Augmentation: While not included in this snippet, you can manually rewrite some sentences to add more training samples.\n",
        "3. Early Stopping & Checkpoints: Helps prevent overfitting and saves the best-performing model.\n",
        "4. Batch Size: A smaller batch size (e.g., 8) improves model updates for tiny datasets.\n",
        "5. Learning Rate (3e-5): A lower learning rate suits fine-tuning on small datasets.\n",
        "\n",
        "\n",
        "\n"
      ],
      "metadata": {
        "id": "qz_uRXxGFX3A"
      }
    },
    {
      "cell_type": "markdown",
      "source": [
        "Rune the following codes to train the model."
      ],
      "metadata": {
        "id": "gQzt45KNF-n_"
      }
    },
    {
      "cell_type": "code",
      "source": [
        "# Optimizer and Learning Rate Scheduler\n",
        "num_train_steps = len(train_dataset) * 10  # 10 epochs\n",
        "optimizer, lr_schedule = create_optimizer(\n",
        "    init_lr=3e-5, num_warmup_steps=0, num_train_steps=num_train_steps\n",
        ")\n"
      ],
      "metadata": {
        "id": "qGX9eOlVx-Lj"
      },
      "execution_count": 9,
      "outputs": []
    },
    {
      "cell_type": "code",
      "source": [
        "loss = tf.keras.losses.SparseCategoricalCrossentropy(from_logits=True)\n",
        "metrics = [tf.keras.metrics.SparseCategoricalAccuracy('accuracy')]\n",
        "model.compile(optimizer=optimizer, loss=loss, metrics=metrics)\n"
      ],
      "metadata": {
        "id": "p-_QBZdmyEJM"
      },
      "execution_count": 10,
      "outputs": []
    },
    {
      "cell_type": "code",
      "source": [
        "early_stopping = tf.keras.callbacks.EarlyStopping(monitor='val_loss', patience=3)"
      ],
      "metadata": {
        "id": "znTTHtDUyHTw"
      },
      "execution_count": 11,
      "outputs": []
    },
    {
      "cell_type": "code",
      "source": [
        "# Train the Model\n",
        "history = model.fit(\n",
        "    train_dataset,\n",
        "    validation_data=val_dataset,\n",
        "    epochs=10,\n",
        "    callbacks=[early_stopping]\n",
        ")"
      ],
      "metadata": {
        "colab": {
          "base_uri": "https://localhost:8080/"
        },
        "id": "iFImFTjAyNQJ",
        "outputId": "c0caa051-a15f-4d9a-de15-8df08259b976"
      },
      "execution_count": 12,
      "outputs": [
        {
          "output_type": "stream",
          "name": "stdout",
          "text": [
            "Epoch 1/10\n",
            "3/3 [==============================] - 30s 4s/step - loss: 0.6903 - accuracy: 0.6250 - val_loss: 0.7104 - val_accuracy: 0.3750\n",
            "Epoch 2/10\n",
            "3/3 [==============================] - 7s 3s/step - loss: 0.6307 - accuracy: 0.6250 - val_loss: 0.7170 - val_accuracy: 0.3750\n",
            "Epoch 3/10\n",
            "3/3 [==============================] - 5s 2s/step - loss: 0.5740 - accuracy: 0.6250 - val_loss: 0.7210 - val_accuracy: 0.3750\n",
            "Epoch 4/10\n",
            "3/3 [==============================] - 7s 3s/step - loss: 0.5252 - accuracy: 0.6250 - val_loss: 0.6812 - val_accuracy: 0.3750\n",
            "Epoch 5/10\n",
            "3/3 [==============================] - 5s 2s/step - loss: 0.4576 - accuracy: 0.7083 - val_loss: 0.6220 - val_accuracy: 0.5000\n",
            "Epoch 6/10\n",
            "3/3 [==============================] - 6s 2s/step - loss: 0.3852 - accuracy: 0.9167 - val_loss: 0.5658 - val_accuracy: 0.8750\n",
            "Epoch 7/10\n",
            "3/3 [==============================] - 5s 2s/step - loss: 0.3405 - accuracy: 0.9583 - val_loss: 0.5164 - val_accuracy: 0.8750\n",
            "Epoch 8/10\n",
            "3/3 [==============================] - 8s 3s/step - loss: 0.3060 - accuracy: 1.0000 - val_loss: 0.4780 - val_accuracy: 0.8750\n",
            "Epoch 9/10\n",
            "3/3 [==============================] - 5s 2s/step - loss: 0.2777 - accuracy: 1.0000 - val_loss: 0.4512 - val_accuracy: 0.8750\n",
            "Epoch 10/10\n",
            "3/3 [==============================] - 5s 2s/step - loss: 0.2604 - accuracy: 1.0000 - val_loss: 0.4401 - val_accuracy: 0.8750\n"
          ]
        }
      ]
    },
    {
      "cell_type": "markdown",
      "source": [
        "#Model Evaluation and Saving\n",
        "\n",
        "Run the following codes to evaluate the trained and then save it to a custom directory in your drive."
      ],
      "metadata": {
        "id": "TVci2yb9GMtU"
      }
    },
    {
      "cell_type": "code",
      "source": [
        "#Evaluate the model\n",
        "test_loss, test_accuracy = model.evaluate(test_dataset)\n",
        "print(f\"Test Accuracy: {test_accuracy:.2f}\")"
      ],
      "metadata": {
        "colab": {
          "base_uri": "https://localhost:8080/"
        },
        "id": "IhJYlqCKyQs9",
        "outputId": "87ee7435-0ccb-4f5c-a000-edeb933b0feb"
      },
      "execution_count": 13,
      "outputs": [
        {
          "output_type": "stream",
          "name": "stdout",
          "text": [
            "1/1 [==============================] - 2s 2s/step - loss: 0.4778 - accuracy: 0.8750\n",
            "Test Accuracy: 0.88\n"
          ]
        }
      ]
    },
    {
      "cell_type": "code",
      "source": [
        "# Save the Model\n",
        "model.save_pretrained(\"./text_classifier\")\n",
        "tokenizer.save_pretrained(\"./text_classifier\")"
      ],
      "metadata": {
        "colab": {
          "base_uri": "https://localhost:8080/"
        },
        "id": "o3z9YKfIyUw9",
        "outputId": "0a0a0547-b1a3-42c1-dbc7-8d7e27a5022a"
      },
      "execution_count": 14,
      "outputs": [
        {
          "output_type": "execute_result",
          "data": {
            "text/plain": [
              "('./text_classifier/tokenizer_config.json',\n",
              " './text_classifier/special_tokens_map.json',\n",
              " './text_classifier/vocab.txt',\n",
              " './text_classifier/added_tokens.json')"
            ]
          },
          "metadata": {},
          "execution_count": 14
        }
      ]
    },
    {
      "cell_type": "code",
      "source": [
        "#Load the pretrained model\n",
        "model = TFDistilBertForSequenceClassification.from_pretrained(\"./text_classifier\")\n",
        "tokenizer = DistilBertTokenizer.from_pretrained(\"./text_classifier\")\n"
      ],
      "metadata": {
        "colab": {
          "base_uri": "https://localhost:8080/"
        },
        "id": "JP-fFZkayakE",
        "outputId": "31e5f503-dba8-4def-e8de-13d0c80ad1ee"
      },
      "execution_count": 15,
      "outputs": [
        {
          "output_type": "stream",
          "name": "stderr",
          "text": [
            "Some layers from the model checkpoint at ./text_classifier were not used when initializing TFDistilBertForSequenceClassification: ['dropout_19']\n",
            "- This IS expected if you are initializing TFDistilBertForSequenceClassification from the checkpoint of a model trained on another task or with another architecture (e.g. initializing a BertForSequenceClassification model from a BertForPreTraining model).\n",
            "- This IS NOT expected if you are initializing TFDistilBertForSequenceClassification from the checkpoint of a model that you expect to be exactly identical (initializing a BertForSequenceClassification model from a BertForSequenceClassification model).\n",
            "Some layers of TFDistilBertForSequenceClassification were not initialized from the model checkpoint at ./text_classifier and are newly initialized: ['dropout_39']\n",
            "You should probably TRAIN this model on a down-stream task to be able to use it for predictions and inference.\n"
          ]
        }
      ]
    },
    {
      "cell_type": "markdown",
      "source": [
        "#Model Prediction\n",
        "\n",
        "Once the tokenized input is ready, it is passed through the model. The transformer encoder processes the tokenized input to generate contextualized word embeddings, capturing the relationships between tokens. The final output of the encoder is a vector of logits, which are **raw prediction scores**.\n",
        "\n",
        "The classification head (usually a dense layer) processes these logits to output a final prediction. These are then passed through a softmax or argmax function to get the final class prediction.\n",
        "\n"
      ],
      "metadata": {
        "id": "mHB5kft7A9d-"
      }
    },
    {
      "cell_type": "markdown",
      "source": [
        "This output corresponds to either **0 (Active)** or **1 (Passive)**."
      ],
      "metadata": {
        "id": "Uk-ZavSHB5mR"
      }
    },
    {
      "cell_type": "code",
      "source": [
        "def predict_sentence_voice(sentence):\n",
        "\n",
        "    inputs = tokenizer(sentence, return_tensors=\"tf\", truncation=True, padding=True, max_length=128)\n",
        "\n",
        "    logits = model(inputs)[0]\n",
        "\n",
        "    # Convert logits to predicted class (0 = Active, 1 = Passive)\n",
        "    predicted_class = tf.argmax(logits, axis=-1).numpy()[0]\n",
        "\n",
        "    # Interpret the prediction\n",
        "    if predicted_class == 0:\n",
        "        return \"Active\"\n",
        "    else:\n",
        "        return \"Passive\""
      ],
      "metadata": {
        "id": "9tqqHeX9yiFi"
      },
      "execution_count": 16,
      "outputs": []
    },
    {
      "cell_type": "markdown",
      "source": [
        "#Testing the Model\n",
        "\n",
        "Write any sentence in the given ***sentence*** variable and run this code block to determine if it is Active Voice or Passive Voice."
      ],
      "metadata": {
        "id": "40aqt-JfCKFx"
      }
    },
    {
      "cell_type": "code",
      "source": [
        "# Test the function with a sample sentence\n",
        "sentence = \"the letter was written by\" # <--- write your sample sentence here\n",
        "prediction = predict_sentence_voice(sentence)\n",
        "print(f\"Sentence: '{sentence}' is {prediction}.\")"
      ],
      "metadata": {
        "colab": {
          "base_uri": "https://localhost:8080/"
        },
        "id": "Lrvj4OhPy0eX",
        "outputId": "2bc92351-83de-413c-cb0d-8a1f347d38ff"
      },
      "execution_count": 17,
      "outputs": [
        {
          "output_type": "stream",
          "name": "stdout",
          "text": [
            "Sentence: 'the letter was written by' is Passive.\n"
          ]
        }
      ]
    }
  ]
}